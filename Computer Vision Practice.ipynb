{
 "cells": [
  {
   "cell_type": "markdown",
   "id": "d00902fb",
   "metadata": {},
   "source": [
    "## COMPUTER VISION"
   ]
  },
  {
   "cell_type": "code",
   "execution_count": 3,
   "id": "48794b81",
   "metadata": {},
   "outputs": [
    {
     "name": "stdout",
     "output_type": "stream",
     "text": [
      "Requirement already satisfied: opencv-python in c:\\users\\yomijay\\anaconda3\\lib\\site-packages (4.5.5.62)\n",
      "Requirement already satisfied: numpy>=1.14.5 in c:\\users\\yomijay\\anaconda3\\lib\\site-packages (from opencv-python) (1.20.1)\n"
     ]
    }
   ],
   "source": [
    "!pip install opencv-python"
   ]
  },
  {
   "cell_type": "code",
   "execution_count": 3,
   "id": "2ea01feb",
   "metadata": {},
   "outputs": [],
   "source": [
    "#Import opencv Libraries\n",
    "import cv2"
   ]
  },
  {
   "cell_type": "markdown",
   "id": "f26c4dc5",
   "metadata": {},
   "source": [
    "## Face Detection"
   ]
  },
  {
   "cell_type": "code",
   "execution_count": 4,
   "id": "397745ec",
   "metadata": {},
   "outputs": [],
   "source": [
    "#Load the face cascade\n",
    "face_cascade = cv2.CascadeClassifier(cv2.data.haarcascades+ \"haarcascade_frontalface_default.xml\")"
   ]
  },
  {
   "cell_type": "code",
   "execution_count": 5,
   "id": "101cf733",
   "metadata": {},
   "outputs": [],
   "source": [
    "#creating a function that will be used to detect the face\n",
    "def detect(gray, frame):\n",
    "    faces = face_cascade.detectMultiScale(gray, 1.3, 5)\n",
    "    for(x, y, w, h) in faces:\n",
    "        cv2.rectangle(frame, (x, y), (x+w, y+h), (255, 0, 0), 2)\n",
    "        roi_gray = gray[y:y+h, x:x+w]\n",
    "        roi_color = frame[y:y+h, x:x+w]\n",
    "    return frame\n",
    "\n",
    "video_capture = cv2.VideoCapture(0) # 0 for laptop webcam and 1 for external webcam\n",
    "while True:\n",
    "    _, frame = video_capture.read()\n",
    "    gray = cv2.cvtColor(frame, cv2.COLOR_BGR2GRAY)\n",
    "    canvas = detect(gray, frame)\n",
    "    cv2.imshow('Video', canvas)\n",
    "    if cv2.waitKey(1) & 0xFF == ord('q'):\n",
    "        break\n",
    "video_capture.release()\n",
    "cv2.destroyAllWindows()"
   ]
  },
  {
   "cell_type": "code",
   "execution_count": 6,
   "id": "f61468d7",
   "metadata": {
    "scrolled": true
   },
   "outputs": [],
   "source": [
    "#Detecting face with my webcam\n",
    "video_capture = cv2.VideoCapture(0) #0 is for Laptop webcam , while 1 is for externam webcam\n",
    "while True:\n",
    "    _, frame = video_capture.read()\n",
    "    gray= cv2.cvtColor(frame, cv2.COLOR_BGR2GRAY)\n",
    "    canvas= detect(gray, frame)\n",
    "    cv2.imshow(\"Video\", canvas)\n",
    "    \n",
    "    if cv2.waitKey(1) & 0xff ==ord(\"q\"):\n",
    "        break\n",
    "\n",
    "video_capture.release\n",
    "cv2.destroyAllWindows()"
   ]
  },
  {
   "cell_type": "markdown",
   "id": "874c599d",
   "metadata": {},
   "source": [
    "### Face and Eye Detection"
   ]
  },
  {
   "cell_type": "code",
   "execution_count": 7,
   "id": "c46e870e",
   "metadata": {},
   "outputs": [],
   "source": [
    "#Load the face and eye cascade\n",
    "face_cascade = cv2.CascadeClassifier(cv2.data.haarcascades+ \"haarcascade_frontalface_default.xml\")\n",
    "eye_cascade =  cv2.CascadeClassifier(cv2.data.haarcascades+ \"haarcascade_eye.xml\")"
   ]
  },
  {
   "cell_type": "code",
   "execution_count": 11,
   "id": "74cb5726",
   "metadata": {},
   "outputs": [],
   "source": [
    "def detect(gray, frame):\n",
    "    faces = face_cascade.detectMultiScale(gray, 1.3, 5)\n",
    "    for(x, y, w, h) in faces:\n",
    "        cv2.rectangle(frame, (x, y), (x+w, y+h), (255, 0, 0), 2)\n",
    "        roi_gray = gray[y:y+h, x:x+w]\n",
    "        roi_color = frame[y:y+h, x:x+w]\n",
    "        \n",
    "        eyes =eye_cascade.detectMultiScale(roi_gray, 1.1, 5)\n",
    "        for(ex, ey, ew, eh) in eyes:\n",
    "           cv2.rectangle(roi_color, (ex, ey), (ex+ew, ey+eh), (0, 0, 255),2) \n",
    "        \n",
    "        \n",
    "    return frame"
   ]
  },
  {
   "cell_type": "code",
   "execution_count": 18,
   "id": "aee89c2c",
   "metadata": {},
   "outputs": [],
   "source": [
    "#Detecting face with my webcam\n",
    "video_capture = cv2.VideoCapture(0) #0 is for Laptop webcam , while 1 is for externam webcam\n",
    "while True:\n",
    "    _, frame = video_capture.read()\n",
    "    gray= cv2.cvtColor(frame, cv2.COLOR_BGR2GRAY)\n",
    "    canvas= detect(gray, frame)\n",
    "    cv2.imshow(\"Video\", canvas)\n",
    "    \n",
    "    if cv2.waitKey(1) & 0xff ==ord(\"q\"):\n",
    "        break\n",
    "\n",
    "video_capture.release\n",
    "cv2.destroyAllWindows()"
   ]
  },
  {
   "cell_type": "markdown",
   "id": "56b849a2",
   "metadata": {},
   "source": [
    "## Smile Detection"
   ]
  },
  {
   "cell_type": "code",
   "execution_count": 25,
   "id": "ea30ebf2",
   "metadata": {},
   "outputs": [],
   "source": [
    " #Load the face, eye and smile cascades\n",
    "face_cascade = cv2.CascadeClassifier(cv2.data.haarcascades+ \"haarcascade_frontalface_default.xml\")\n",
    "eye_cascade =  cv2.CascadeClassifier(cv2.data.haarcascades+ \"haarcascade_eye.xml\")\n",
    "smile_cascade = cv2.CascadeClassifier(cv2.data.haarcascades+ \"haarcascade_smile.xml\")"
   ]
  },
  {
   "cell_type": "code",
   "execution_count": 26,
   "id": "89bdfb2f",
   "metadata": {},
   "outputs": [],
   "source": [
    "def detect(gray, frame):\n",
    "    faces = face_cascade.detectMultiScale(gray, 1.3, 5)\n",
    "    for(x, y, w, h) in faces:\n",
    "        cv2.rectangle(frame, (x, y), (x+w, y+h), (255, 0, 0), 2)\n",
    "        roi_gray = gray[y:y+h, x:x+w]\n",
    "        roi_color = frame[y:y+h, x:x+w]\n",
    "        \n",
    "        eyes =eye_cascade.detectMultiScale(roi_gray, 1.1, 5)\n",
    "        for(ex, ey, ew, eh) in eyes:\n",
    "           cv2.rectangle(roi_color, (ex, ey), (ex+ew, ey+eh), (0, 0, 255),2) \n",
    "        \n",
    "        smile =smile_cascade.detectMultiScale(roi_gray, 1.7, 22)\n",
    "        for(sx, sy, sw, sh) in smile:\n",
    "           cv2.rectangle(roi_color, (sx, sy), (sx+sw, sy+sh), (0, 255, 0),2)\n",
    "    return frame"
   ]
  },
  {
   "cell_type": "code",
   "execution_count": 27,
   "id": "8a7500ac",
   "metadata": {},
   "outputs": [],
   "source": [
    "video_capture = cv2.VideoCapture(0) #0 is for Laptop webcam , while 1 is for external webcam\n",
    "while True:\n",
    "    _, frame = video_capture.read()\n",
    "    gray= cv2.cvtColor(frame, cv2.COLOR_BGR2GRAY)\n",
    "    canvas= detect(gray, frame)\n",
    "    cv2.imshow(\"Video\", canvas)\n",
    "    \n",
    "    if cv2.waitKey(1) & 0xff ==ord(\"q\"):\n",
    "        break\n",
    "\n",
    "video_capture.release\n",
    "cv2.destroyAllWindows()"
   ]
  },
  {
   "cell_type": "code",
   "execution_count": null,
   "id": "ca29a3cd",
   "metadata": {},
   "outputs": [],
   "source": []
  },
  {
   "cell_type": "code",
   "execution_count": null,
   "id": "a1fb804c",
   "metadata": {},
   "outputs": [],
   "source": []
  }
 ],
 "metadata": {
  "kernelspec": {
   "display_name": "Python 3",
   "language": "python",
   "name": "python3"
  },
  "language_info": {
   "codemirror_mode": {
    "name": "ipython",
    "version": 3
   },
   "file_extension": ".py",
   "mimetype": "text/x-python",
   "name": "python",
   "nbconvert_exporter": "python",
   "pygments_lexer": "ipython3",
   "version": "3.8.8"
  }
 },
 "nbformat": 4,
 "nbformat_minor": 5
}
